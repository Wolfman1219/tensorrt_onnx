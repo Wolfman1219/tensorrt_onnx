{
  "nbformat": 4,
  "nbformat_minor": 0,
  "metadata": {
    "colab": {
      "private_outputs": true,
      "provenance": []
    },
    "kernelspec": {
      "name": "python3",
      "display_name": "Python 3"
    },
    "language_info": {
      "name": "python"
    }
  },
  "cells": [
    {
      "cell_type": "code",
      "execution_count": null,
      "metadata": {
        "id": "5KJQ_TMesBQx"
      },
      "outputs": [],
      "source": [
        "!pip install onnx2keras"
      ]
    },
    {
      "cell_type": "code",
      "source": [
        "!git clone https://github.com/onnx/onnx-tensorflow.git && cd onnx-tensorflow"
      ],
      "metadata": {
        "id": "Op-Ky3iptiOx"
      },
      "execution_count": null,
      "outputs": []
    },
    {
      "cell_type": "code",
      "source": [
        "!onnx-tf convert -i \"/content/drive/MyDrive/models/best.onnx\" -o  \"/content/drive/MyDrive/models/best.pb\""
      ],
      "metadata": {
        "id": "jlJ0_5XyuGak"
      },
      "execution_count": null,
      "outputs": []
    },
    {
      "cell_type": "code",
      "source": [
        "import tensorflow as tf\n",
        "saved_model_dir = '/content/drive/MyDrive/models/best.pb'\n",
        "converter = tf.lite.TFLiteConverter.from_saved_model(saved_model_dir)\n",
        "converter.target_spec.supported_ops = [\n",
        "  tf.lite.OpsSet.TFLITE_BUILTINS, # enable TensorFlow Lite ops.\n",
        "  tf.lite.OpsSet.SELECT_TF_OPS # enable TensorFlow ops.\n",
        "]\n",
        "tflite_model = converter.convert()\n",
        "open(\"/content/drive/MyDrive/models/converted_model.tflite\", \"wb\").write(tflite_model)\n"
      ],
      "metadata": {
        "id": "1HU0iEWoyHFU"
      },
      "execution_count": null,
      "outputs": []
    }
  ]
}